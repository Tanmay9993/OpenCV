{
  "cells": [
    {
      "cell_type": "code",
      "execution_count": 1,
      "metadata": {
        "colab": {
          "base_uri": "https://localhost:8080/",
          "height": 444,
          "referenced_widgets": [
            "8afb0975de404d6092c605d2e3934593",
            "273f3682c66e4b988ec9ed30d6919d28",
            "860da5c1cb1a4368be2973421a67f014",
            "49e493882bcd4913aed4bae5cc717be1",
            "44cdfa767b4b42d88e07ed9f7d23c661",
            "e5bbcba1345d4044ae87aecd8011c2fd",
            "3cb3976ee95f43f5ad4b994c7d157d61",
            "9b17dcddc83c420ea42e984c9601b7ac",
            "3743d0c8c5ea46f78a57299a635dee68",
            "dfa3e9b3f095437aa7f5453d0532d8b5",
            "00a71e22fd824d22978a6a73d3c1e7cc"
          ]
        },
        "id": "phJdboy6R_lo",
        "outputId": "a4418a7d-30b4-414c-ea37-a50b4a80e52c"
      },
      "outputs": [
        {
          "name": "stderr",
          "output_type": "stream",
          "text": [
            "Downloading: \"https://github.com/ultralytics/yolov5/archive/master.zip\" to /root/.cache/torch/hub/master.zip\n",
            "\u001b[31m\u001b[1mrequirements:\u001b[0m PyYAML>=5.3.1 not found and is required by YOLOv5, attempting auto-update...\n",
            "Collecting PyYAML>=5.3.1\n",
            "  Downloading PyYAML-6.0-cp37-cp37m-manylinux_2_5_x86_64.manylinux1_x86_64.manylinux_2_12_x86_64.manylinux2010_x86_64.whl (596 kB)\n",
            "Installing collected packages: PyYAML\n",
            "  Attempting uninstall: PyYAML\n",
            "    Found existing installation: PyYAML 3.13\n",
            "    Uninstalling PyYAML-3.13:\n",
            "      Successfully uninstalled PyYAML-3.13\n",
            "Successfully installed PyYAML-6.0\n",
            "\n",
            "\u001b[31m\u001b[1mrequirements:\u001b[0m 1 package updated per /root/.cache/torch/hub/ultralytics_yolov5_master/requirements.txt\n",
            "\u001b[31m\u001b[1mrequirements:\u001b[0m ⚠️ \u001b[1mRestart runtime or rerun command for updates to take effect\u001b[0m\n",
            "\n",
            "YOLOv5 🚀 2022-4-25 torch 1.11.0+cu113 CUDA:0 (Tesla K80, 11441MiB)\n",
            "\n",
            "Downloading https://github.com/ultralytics/yolov5/releases/download/v6.1/yolov5m.pt to yolov5m.pt...\n"
          ]
        },
        {
          "data": {
            "application/vnd.jupyter.widget-view+json": {
              "model_id": "8afb0975de404d6092c605d2e3934593",
              "version_major": 2,
              "version_minor": 0
            },
            "text/plain": [
              "  0%|          | 0.00/40.8M [00:00<?, ?B/s]"
            ]
          },
          "metadata": {},
          "output_type": "display_data"
        },
        {
          "name": "stderr",
          "output_type": "stream",
          "text": [
            "\n",
            "Fusing layers... \n",
            "YOLOv5m summary: 290 layers, 21172173 parameters, 0 gradients\n",
            "Adding AutoShape... \n"
          ]
        }
      ],
      "source": [
        "import torch\n",
        "\n",
        "# Model\n",
        "model = torch.hub.load('ultralytics/yolov5', 'yolov5m')"
      ]
    },
    {
      "cell_type": "code",
      "execution_count": 2,
      "metadata": {
        "colab": {
          "base_uri": "https://localhost:8080/"
        },
        "id": "KfXuQmEySrfI",
        "outputId": "83d12904-b4b5-417e-fc48-1167c07e169f"
      },
      "outputs": [
        {
          "name": "stdout",
          "output_type": "stream",
          "text": [
            "Mounted at /content/drive\n"
          ]
        }
      ],
      "source": [
        "from google.colab import drive\n",
        "drive.mount('/content/drive')"
      ]
    },
    {
      "cell_type": "code",
      "execution_count": 4,
      "metadata": {
        "id": "jZ_1UCZeeoji"
      },
      "outputs": [],
      "source": [
        "# Extracting frames from the video\n",
        "\n",
        "import cv2\n",
        "\n",
        "frameWidth = 480\n",
        "frameHeight = 320\n",
        "\n",
        "cap = cv2.VideoCapture(\"/content/video/train030.mp4\")\n",
        "\n",
        "i = 0\n",
        "success, img1 = cap.read()\n",
        "\n",
        "while success:\n",
        "    img = cv2.resize(img1, (frameWidth, frameHeight))\n",
        "    # cv2.imshow(\"Result\", img)\n",
        "    cv2.imwrite(f'/content/frames/{i}_frame.jpg', img)\n",
        "    if cv2.waitKey(1) and 0xFF == ord('q'):\n",
        "         break\n",
        "    i += 1\n",
        "    success, img1 = cap.read()\n",
        "\n",
        "cap.release()"
      ]
    },
    {
      "cell_type": "code",
      "execution_count": 6,
      "metadata": {
        "colab": {
          "base_uri": "https://localhost:8080/"
        },
        "id": "CvEO7hWguAsR",
        "outputId": "e0acfec9-f142-41df-f9a2-0dca804bbd41"
      },
      "outputs": [
        {
          "name": "stdout",
          "output_type": "stream",
          "text": [
            "dict_keys(['imgs', 'pred', 'names', 'files', 'times', 'xyxy', 'xywh', 'xyxyn', 'xywhn', 'n', 't', 's'])\n"
          ]
        }
      ],
      "source": [
        "# Testing model on one image\n",
        "\n",
        "img_path = '/content/frames/101_frame.jpg'\n",
        "img = cv2.imread(img_path)\n",
        "results = model(img) # giving input image to the model\n",
        "print(results.__dict__.keys())"
      ]
    },
    {
      "cell_type": "code",
      "execution_count": 7,
      "metadata": {
        "colab": {
          "base_uri": "https://localhost:8080/"
        },
        "id": "DXbaDjkfuA4X",
        "outputId": "6c8137a4-21dd-4336-c15b-35ea1670fe08"
      },
      "outputs": [
        {
          "data": {
            "text/plain": [
              "[tensor([[2.74469e+02, 1.42537e+02, 2.89463e+02, 1.86505e+02, 8.67550e-01, 0.00000e+00],\n",
              "         [2.07590e+02, 1.82581e+02, 2.29196e+02, 2.35566e+02, 8.51232e-01, 0.00000e+00],\n",
              "         [2.97266e+02, 8.88963e+01, 3.13737e+02, 1.32790e+02, 8.34315e-01, 0.00000e+00],\n",
              "         [3.50582e+02, 6.44135e+01, 3.68792e+02, 1.05645e+02, 8.19764e-01, 0.00000e+00],\n",
              "         [1.54924e+02, 2.29925e+02, 1.76646e+02, 2.87341e+02, 8.18921e-01, 0.00000e+00],\n",
              "         [3.06487e+00, 2.47888e+02, 2.38009e+01, 3.05461e+02, 8.03109e-01, 0.00000e+00],\n",
              "         [3.36095e+02, 6.69925e+01, 3.51076e+02, 1.05270e+02, 7.60462e-01, 0.00000e+00],\n",
              "         [7.73887e+01, 2.60360e+02, 9.93548e+01, 3.19657e+02, 7.48011e-01, 0.00000e+00],\n",
              "         [2.42373e+01, 2.97008e+02, 5.29570e+01, 3.19639e+02, 7.02741e-01, 0.00000e+00],\n",
              "         [1.01847e+02, 2.78487e+02, 1.27749e+02, 3.19738e+02, 6.98597e-01, 0.00000e+00],\n",
              "         [2.33686e+02, 1.12361e+02, 2.49951e+02, 1.55118e+02, 6.24973e-01, 0.00000e+00],\n",
              "         [1.39692e+02, 1.49622e+02, 1.56181e+02, 2.03166e+02, 5.66227e-01, 0.00000e+00],\n",
              "         [1.52511e+02, 1.53564e+02, 1.68411e+02, 2.00977e+02, 5.29424e-01, 0.00000e+00],\n",
              "         [8.08406e+01, 1.95434e+02, 1.01702e+02, 2.55454e+02, 4.76033e-01, 0.00000e+00],\n",
              "         [8.84298e+01, 2.24418e+02, 1.13489e+02, 2.72904e+02, 4.72727e-01, 0.00000e+00],\n",
              "         [1.56474e+02, 2.38897e+02, 1.70932e+02, 2.58806e+02, 3.07136e-01, 2.40000e+01]], device='cuda:0')]"
            ]
          },
          "execution_count": 7,
          "metadata": {},
          "output_type": "execute_result"
        }
      ],
      "source": [
        "# Coordinated for bounding box (top left, bottom right)\n",
        "# results.names is the label map\n",
        "results.xyxy\n",
        "\n",
        "#         x1           y1           x2           y2         confidence_score  label"
      ]
    },
    {
      "cell_type": "code",
      "execution_count": 8,
      "metadata": {
        "id": "EgnY7i9luA71"
      },
      "outputs": [],
      "source": [
        "# For help\n",
        "\n",
        "# help(results)"
      ]
    },
    {
      "cell_type": "code",
      "execution_count": 9,
      "metadata": {
        "id": "siwWsaGAuA-T"
      },
      "outputs": [],
      "source": [
        "bboxes = results.xyxy[0].detach().cpu().numpy()\n",
        "\n",
        "# Detach tensor from cuda and put those tensor on CPU\n",
        "# Convert those tensor values to numpy"
      ]
    },
    {
      "cell_type": "code",
      "execution_count": 10,
      "metadata": {
        "colab": {
          "base_uri": "https://localhost:8080/"
        },
        "id": "q5c-InrMwUiq",
        "outputId": "81c1b6c2-accb-4588-d754-eed99faee1b8"
      },
      "outputs": [
        {
          "data": {
            "text/plain": [
              "array([[     274.47,      142.54,      289.46,      186.51,     0.86755,           0],\n",
              "       [     207.59,      182.58,       229.2,      235.57,     0.85123,           0],\n",
              "       [     297.27,      88.896,      313.74,      132.79,     0.83431,           0],\n",
              "       [     350.58,      64.413,      368.79,      105.65,     0.81976,           0],\n",
              "       [     154.92,      229.92,      176.65,      287.34,     0.81892,           0],\n",
              "       [     3.0649,      247.89,      23.801,      305.46,     0.80311,           0],\n",
              "       [      336.1,      66.992,      351.08,      105.27,     0.76046,           0],\n",
              "       [     77.389,      260.36,      99.355,      319.66,     0.74801,           0],\n",
              "       [     24.237,      297.01,      52.957,      319.64,     0.70274,           0],\n",
              "       [     101.85,      278.49,      127.75,      319.74,      0.6986,           0],\n",
              "       [     233.69,      112.36,      249.95,      155.12,     0.62497,           0],\n",
              "       [     139.69,      149.62,      156.18,      203.17,     0.56623,           0],\n",
              "       [     152.51,      153.56,      168.41,      200.98,     0.52942,           0],\n",
              "       [     80.841,      195.43,       101.7,      255.45,     0.47603,           0],\n",
              "       [      88.43,      224.42,      113.49,       272.9,     0.47273,           0],\n",
              "       [     156.47,       238.9,      170.93,      258.81,     0.30714,          24]], dtype=float32)"
            ]
          },
          "execution_count": 10,
          "metadata": {},
          "output_type": "execute_result"
        }
      ],
      "source": [
        "bboxes"
      ]
    },
    {
      "cell_type": "code",
      "execution_count": 12,
      "metadata": {
        "colab": {
          "base_uri": "https://localhost:8080/"
        },
        "id": "M2_D6xRewUkz",
        "outputId": "9311114d-0790-42e9-c02b-9ec6b08b8203"
      },
      "outputs": [
        {
          "data": {
            "text/plain": [
              "True"
            ]
          },
          "execution_count": 12,
          "metadata": {},
          "output_type": "execute_result"
        }
      ],
      "source": [
        "# Plotting bounding box on that image\n",
        "# Plotting the confidence score \n",
        "import os\n",
        "\n",
        "canvas = img.copy()\n",
        "\n",
        "for bbox in bboxes:\n",
        "    x1, y1, x2, y2, score, label_id = bbox\n",
        "    x1, y1, x2, y2 = int(x1), int(y1), int(x2), int(y2) # converting coordinated to integer\n",
        "    label = results.names[int(label_id)]\n",
        "\n",
        "    cv2.rectangle(canvas, (x1, y1), (x2, y2), (0, 255, 0), 1)\n",
        "    cv2.putText(canvas, \n",
        "                f'{label}-{score:.2f}', \n",
        "                (x1, y1), \n",
        "                cv2.FONT_HERSHEY_SIMPLEX,\n",
        "                0.5,\n",
        "                (255,255,255),\n",
        "                1)\n",
        "    \n",
        "cv2.imwrite(os.path.join('/content/output', 'Output_' + os.path.basename(img_path)), canvas)"
      ]
    },
    {
      "cell_type": "code",
      "execution_count": 21,
      "metadata": {
        "id": "Pck6lipGyl_b"
      },
      "outputs": [],
      "source": [
        "#### For Video"
      ]
    },
    {
      "cell_type": "code",
      "execution_count": 13,
      "metadata": {
        "id": "oI2o0oCZuBAy"
      },
      "outputs": [],
      "source": [
        "import cv2\n",
        "import numpy as np\n",
        "\n",
        "def get_predictions(img):\n",
        "    results = model(img)\n",
        "    bboxes = results.xyxy[0].detach().cpu().numpy()\n",
        "    return bboxes, results.names\n",
        "\n",
        "def draw_bboxes(img, bboxes, label_map):\n",
        "    canvas = img.copy()\n",
        "    for bbox in bboxes:\n",
        "        x1, y1, x2, y2, score, label_id = bbox\n",
        "        if(label_id == 0):\n",
        "          x1, y1, x2, y2 = int(x1), int(y1), int(x2), int(y2)\n",
        "          label = label_map[int(label_id)]\n",
        "\n",
        "\n",
        "          cv2.rectangle(canvas, (x1, y1), (x2, y2), (0, 255, 0), 1)   # Create bounding box\n",
        "          cv2.putText(canvas,     # Write name of detected object (label) and confidence score\n",
        "                    f'{label}-{score:.2f}', \n",
        "                    (x1, y1), # Change y1 to change the display of label abpve bpunding box\n",
        "                    cv2.FONT_HERSHEY_SIMPLEX,\n",
        "                    0.1,\n",
        "                    (255,255,255),\n",
        "                    1)\n",
        "    return canvas\n",
        "\n",
        "\n",
        "\n",
        "def export_video(video_path, output_path):\n",
        "\n",
        "    # Create a VideoCapture object\n",
        "    cap = cv2.VideoCapture(video_path)    # Reading a video for that video path\n",
        "\n",
        "    # Check if camera opened successfully\n",
        "    if (cap.isOpened() == False): \n",
        "        print(\"Unable to read camera feed\")\n",
        "    # Default resolutions of the frame are obtained.The default resolutions are system dependent.\n",
        "    # We convert the resolutions from float to integer.\n",
        "    # Taking the same width and height of the original video to keep consistent results\n",
        "    frame_width = int(cap.get(3))   # 3 - Width\n",
        "    frame_height = int(cap.get(4))  # 4 - height  5 - fps\n",
        "    fps = 15  # Having same FPS is important to keep consistent frames\n",
        "\n",
        "    fourcc = cv2.VideoWriter_fourcc(*'mp4v') # Codec\n",
        "    # fourcc has values configurations for that codec\n",
        "    out = cv2.VideoWriter(output_path, fourcc, fps, (frame_width, frame_height))\n",
        "    # out is keeping track of all the frames and storing video\n",
        "\n",
        "    while(True):\n",
        "        ret, frame = cap.read()\n",
        "        if ret == True:    # to check is frame is valid\n",
        "\n",
        "            bboxes, label_map = get_predictions(frame)\n",
        "            plotted_bboxes_img = draw_bboxes(frame, bboxes, label_map)\n",
        "            out.write(plotted_bboxes_img) # Adding frame one by one\n",
        "\n",
        "        # Break the loop\n",
        "        else:\n",
        "            break  \n",
        "\n",
        "    # When everything done, release the video capture and video write objects\n",
        "    cap.release()\n",
        "    out.release()\n",
        "\n",
        "    # Closes all the frames\n",
        "    # cv2.destroyAllWindows()"
      ]
    },
    {
      "cell_type": "code",
      "execution_count": 14,
      "metadata": {
        "id": "Ws6iVDRIySua"
      },
      "outputs": [],
      "source": [
        "video_path = '/content/video/train030.mp4'\n",
        "output_path = '/content/output/train030_output.mp4'\n",
        "\n",
        "export_video(video_path, output_path)"
      ]
    },
    {
      "cell_type": "code",
      "execution_count": null,
      "metadata": {
        "id": "WtWSSJLryS0g"
      },
      "outputs": [],
      "source": []
    }
  ],
  "metadata": {
    "accelerator": "GPU",
    "colab": {
      "collapsed_sections": [],
      "name": "People Detection Yolo",
      "provenance": []
    },
    "kernelspec": {
      "display_name": "Python 3",
      "name": "python3"
    },
    "language_info": {
      "name": "python"
    },
    "widgets": {
      "application/vnd.jupyter.widget-state+json": {
        "00a71e22fd824d22978a6a73d3c1e7cc": {
          "model_module": "@jupyter-widgets/controls",
          "model_module_version": "1.5.0",
          "model_name": "DescriptionStyleModel",
          "state": {
            "_model_module": "@jupyter-widgets/controls",
            "_model_module_version": "1.5.0",
            "_model_name": "DescriptionStyleModel",
            "_view_count": null,
            "_view_module": "@jupyter-widgets/base",
            "_view_module_version": "1.2.0",
            "_view_name": "StyleView",
            "description_width": ""
          }
        },
        "273f3682c66e4b988ec9ed30d6919d28": {
          "model_module": "@jupyter-widgets/controls",
          "model_module_version": "1.5.0",
          "model_name": "HTMLModel",
          "state": {
            "_dom_classes": [],
            "_model_module": "@jupyter-widgets/controls",
            "_model_module_version": "1.5.0",
            "_model_name": "HTMLModel",
            "_view_count": null,
            "_view_module": "@jupyter-widgets/controls",
            "_view_module_version": "1.5.0",
            "_view_name": "HTMLView",
            "description": "",
            "description_tooltip": null,
            "layout": "IPY_MODEL_e5bbcba1345d4044ae87aecd8011c2fd",
            "placeholder": "​",
            "style": "IPY_MODEL_3cb3976ee95f43f5ad4b994c7d157d61",
            "value": "100%"
          }
        },
        "3743d0c8c5ea46f78a57299a635dee68": {
          "model_module": "@jupyter-widgets/controls",
          "model_module_version": "1.5.0",
          "model_name": "ProgressStyleModel",
          "state": {
            "_model_module": "@jupyter-widgets/controls",
            "_model_module_version": "1.5.0",
            "_model_name": "ProgressStyleModel",
            "_view_count": null,
            "_view_module": "@jupyter-widgets/base",
            "_view_module_version": "1.2.0",
            "_view_name": "StyleView",
            "bar_color": null,
            "description_width": ""
          }
        },
        "3cb3976ee95f43f5ad4b994c7d157d61": {
          "model_module": "@jupyter-widgets/controls",
          "model_module_version": "1.5.0",
          "model_name": "DescriptionStyleModel",
          "state": {
            "_model_module": "@jupyter-widgets/controls",
            "_model_module_version": "1.5.0",
            "_model_name": "DescriptionStyleModel",
            "_view_count": null,
            "_view_module": "@jupyter-widgets/base",
            "_view_module_version": "1.2.0",
            "_view_name": "StyleView",
            "description_width": ""
          }
        },
        "44cdfa767b4b42d88e07ed9f7d23c661": {
          "model_module": "@jupyter-widgets/base",
          "model_module_version": "1.2.0",
          "model_name": "LayoutModel",
          "state": {
            "_model_module": "@jupyter-widgets/base",
            "_model_module_version": "1.2.0",
            "_model_name": "LayoutModel",
            "_view_count": null,
            "_view_module": "@jupyter-widgets/base",
            "_view_module_version": "1.2.0",
            "_view_name": "LayoutView",
            "align_content": null,
            "align_items": null,
            "align_self": null,
            "border": null,
            "bottom": null,
            "display": null,
            "flex": null,
            "flex_flow": null,
            "grid_area": null,
            "grid_auto_columns": null,
            "grid_auto_flow": null,
            "grid_auto_rows": null,
            "grid_column": null,
            "grid_gap": null,
            "grid_row": null,
            "grid_template_areas": null,
            "grid_template_columns": null,
            "grid_template_rows": null,
            "height": null,
            "justify_content": null,
            "justify_items": null,
            "left": null,
            "margin": null,
            "max_height": null,
            "max_width": null,
            "min_height": null,
            "min_width": null,
            "object_fit": null,
            "object_position": null,
            "order": null,
            "overflow": null,
            "overflow_x": null,
            "overflow_y": null,
            "padding": null,
            "right": null,
            "top": null,
            "visibility": null,
            "width": null
          }
        },
        "49e493882bcd4913aed4bae5cc717be1": {
          "model_module": "@jupyter-widgets/controls",
          "model_module_version": "1.5.0",
          "model_name": "HTMLModel",
          "state": {
            "_dom_classes": [],
            "_model_module": "@jupyter-widgets/controls",
            "_model_module_version": "1.5.0",
            "_model_name": "HTMLModel",
            "_view_count": null,
            "_view_module": "@jupyter-widgets/controls",
            "_view_module_version": "1.5.0",
            "_view_name": "HTMLView",
            "description": "",
            "description_tooltip": null,
            "layout": "IPY_MODEL_dfa3e9b3f095437aa7f5453d0532d8b5",
            "placeholder": "​",
            "style": "IPY_MODEL_00a71e22fd824d22978a6a73d3c1e7cc",
            "value": " 40.8M/40.8M [00:00&lt;00:00, 87.5MB/s]"
          }
        },
        "860da5c1cb1a4368be2973421a67f014": {
          "model_module": "@jupyter-widgets/controls",
          "model_module_version": "1.5.0",
          "model_name": "FloatProgressModel",
          "state": {
            "_dom_classes": [],
            "_model_module": "@jupyter-widgets/controls",
            "_model_module_version": "1.5.0",
            "_model_name": "FloatProgressModel",
            "_view_count": null,
            "_view_module": "@jupyter-widgets/controls",
            "_view_module_version": "1.5.0",
            "_view_name": "ProgressView",
            "bar_style": "success",
            "description": "",
            "description_tooltip": null,
            "layout": "IPY_MODEL_9b17dcddc83c420ea42e984c9601b7ac",
            "max": 42806829,
            "min": 0,
            "orientation": "horizontal",
            "style": "IPY_MODEL_3743d0c8c5ea46f78a57299a635dee68",
            "value": 42806829
          }
        },
        "8afb0975de404d6092c605d2e3934593": {
          "model_module": "@jupyter-widgets/controls",
          "model_module_version": "1.5.0",
          "model_name": "HBoxModel",
          "state": {
            "_dom_classes": [],
            "_model_module": "@jupyter-widgets/controls",
            "_model_module_version": "1.5.0",
            "_model_name": "HBoxModel",
            "_view_count": null,
            "_view_module": "@jupyter-widgets/controls",
            "_view_module_version": "1.5.0",
            "_view_name": "HBoxView",
            "box_style": "",
            "children": [
              "IPY_MODEL_273f3682c66e4b988ec9ed30d6919d28",
              "IPY_MODEL_860da5c1cb1a4368be2973421a67f014",
              "IPY_MODEL_49e493882bcd4913aed4bae5cc717be1"
            ],
            "layout": "IPY_MODEL_44cdfa767b4b42d88e07ed9f7d23c661"
          }
        },
        "9b17dcddc83c420ea42e984c9601b7ac": {
          "model_module": "@jupyter-widgets/base",
          "model_module_version": "1.2.0",
          "model_name": "LayoutModel",
          "state": {
            "_model_module": "@jupyter-widgets/base",
            "_model_module_version": "1.2.0",
            "_model_name": "LayoutModel",
            "_view_count": null,
            "_view_module": "@jupyter-widgets/base",
            "_view_module_version": "1.2.0",
            "_view_name": "LayoutView",
            "align_content": null,
            "align_items": null,
            "align_self": null,
            "border": null,
            "bottom": null,
            "display": null,
            "flex": null,
            "flex_flow": null,
            "grid_area": null,
            "grid_auto_columns": null,
            "grid_auto_flow": null,
            "grid_auto_rows": null,
            "grid_column": null,
            "grid_gap": null,
            "grid_row": null,
            "grid_template_areas": null,
            "grid_template_columns": null,
            "grid_template_rows": null,
            "height": null,
            "justify_content": null,
            "justify_items": null,
            "left": null,
            "margin": null,
            "max_height": null,
            "max_width": null,
            "min_height": null,
            "min_width": null,
            "object_fit": null,
            "object_position": null,
            "order": null,
            "overflow": null,
            "overflow_x": null,
            "overflow_y": null,
            "padding": null,
            "right": null,
            "top": null,
            "visibility": null,
            "width": null
          }
        },
        "dfa3e9b3f095437aa7f5453d0532d8b5": {
          "model_module": "@jupyter-widgets/base",
          "model_module_version": "1.2.0",
          "model_name": "LayoutModel",
          "state": {
            "_model_module": "@jupyter-widgets/base",
            "_model_module_version": "1.2.0",
            "_model_name": "LayoutModel",
            "_view_count": null,
            "_view_module": "@jupyter-widgets/base",
            "_view_module_version": "1.2.0",
            "_view_name": "LayoutView",
            "align_content": null,
            "align_items": null,
            "align_self": null,
            "border": null,
            "bottom": null,
            "display": null,
            "flex": null,
            "flex_flow": null,
            "grid_area": null,
            "grid_auto_columns": null,
            "grid_auto_flow": null,
            "grid_auto_rows": null,
            "grid_column": null,
            "grid_gap": null,
            "grid_row": null,
            "grid_template_areas": null,
            "grid_template_columns": null,
            "grid_template_rows": null,
            "height": null,
            "justify_content": null,
            "justify_items": null,
            "left": null,
            "margin": null,
            "max_height": null,
            "max_width": null,
            "min_height": null,
            "min_width": null,
            "object_fit": null,
            "object_position": null,
            "order": null,
            "overflow": null,
            "overflow_x": null,
            "overflow_y": null,
            "padding": null,
            "right": null,
            "top": null,
            "visibility": null,
            "width": null
          }
        },
        "e5bbcba1345d4044ae87aecd8011c2fd": {
          "model_module": "@jupyter-widgets/base",
          "model_module_version": "1.2.0",
          "model_name": "LayoutModel",
          "state": {
            "_model_module": "@jupyter-widgets/base",
            "_model_module_version": "1.2.0",
            "_model_name": "LayoutModel",
            "_view_count": null,
            "_view_module": "@jupyter-widgets/base",
            "_view_module_version": "1.2.0",
            "_view_name": "LayoutView",
            "align_content": null,
            "align_items": null,
            "align_self": null,
            "border": null,
            "bottom": null,
            "display": null,
            "flex": null,
            "flex_flow": null,
            "grid_area": null,
            "grid_auto_columns": null,
            "grid_auto_flow": null,
            "grid_auto_rows": null,
            "grid_column": null,
            "grid_gap": null,
            "grid_row": null,
            "grid_template_areas": null,
            "grid_template_columns": null,
            "grid_template_rows": null,
            "height": null,
            "justify_content": null,
            "justify_items": null,
            "left": null,
            "margin": null,
            "max_height": null,
            "max_width": null,
            "min_height": null,
            "min_width": null,
            "object_fit": null,
            "object_position": null,
            "order": null,
            "overflow": null,
            "overflow_x": null,
            "overflow_y": null,
            "padding": null,
            "right": null,
            "top": null,
            "visibility": null,
            "width": null
          }
        }
      }
    }
  },
  "nbformat": 4,
  "nbformat_minor": 0
}
